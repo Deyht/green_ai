{
  "nbformat": 4,
  "nbformat_minor": 0,
  "metadata": {
    "colab": {
      "provenance": [],
      "gpuType": "T4"
    },
    "kernelspec": {
      "name": "python3",
      "display_name": "Python 3"
    },
    "language_info": {
      "name": "python"
    },
    "accelerator": "GPU"
  },
  "cells": [
    {
      "cell_type": "markdown",
      "source": [
        "## **CUDA gemm test GPU notebook for the Green AI - PSL Week - 2024**\n",
        "\n",
        "[![Open In Colab](https://colab.research.google.com/assets/colab-badge.svg)](https://colab.research.google.com/github/Deyht/green_ai/blob/main/opt_matmul/GPU/gemm_CUDA_notebook.ipynb)\n"
      ],
      "metadata": {
        "id": "Ss7mQBsHHSV0"
      }
    },
    {
      "cell_type": "code",
      "source": [
        "%%shell\n",
        "\n",
        "git clone https://github.com/Deyht/green_ai"
      ],
      "metadata": {
        "id": "0TmSJ0LVHQIy",
        "outputId": "d4ff8bd6-a6bc-4287-bba4-e8c394cd1fd3",
        "colab": {
          "base_uri": "https://localhost:8080/"
        }
      },
      "execution_count": 1,
      "outputs": [
        {
          "output_type": "stream",
          "name": "stdout",
          "text": [
            "Cloning into 'green_ai'...\n",
            "remote: Enumerating objects: 76, done.\u001b[K\n",
            "remote: Counting objects: 100% (5/5), done.\u001b[K\n",
            "remote: Compressing objects: 100% (5/5), done.\u001b[K\n",
            "remote: Total 76 (delta 0), reused 2 (delta 0), pack-reused 71\u001b[K\n",
            "Receiving objects: 100% (76/76), 65.17 MiB | 21.93 MiB/s, done.\n",
            "Resolving deltas: 100% (24/24), done.\n"
          ]
        },
        {
          "output_type": "execute_result",
          "data": {
            "text/plain": []
          },
          "metadata": {},
          "execution_count": 1
        }
      ]
    },
    {
      "cell_type": "code",
      "source": [
        "%%shell\n",
        "\n",
        "cd /content/green_ai/opt_matmul/GPU/\n",
        "\n",
        "chmod u+x gemm*.cp\n",
        "\n",
        "./gemm_custom.cp\n",
        "./gemm_tc.cp"
      ],
      "metadata": {
        "colab": {
          "base_uri": "https://localhost:8080/"
        },
        "id": "3DweE_1SHqQg",
        "outputId": "744e9e09-4679-49c2-b6cb-879ab3db91b4"
      },
      "execution_count": 3,
      "outputs": [
        {
          "output_type": "execute_result",
          "data": {
            "text/plain": []
          },
          "metadata": {},
          "execution_count": 3
        }
      ]
    },
    {
      "cell_type": "code",
      "source": [
        "%%shell\n",
        "\n",
        "cd /content/green_ai/opt_matmul/GPU/\n",
        "\n",
        "./gemm_custom"
      ],
      "metadata": {
        "colab": {
          "base_uri": "https://localhost:8080/"
        },
        "id": "Ytda2XOUIZp1",
        "outputId": "80b3f0ec-9c4d-446b-8ce5-7f2c260a2126"
      },
      "execution_count": 6,
      "outputs": [
        {
          "output_type": "stream",
          "name": "stdout",
          "text": [
            "M:4096 N:4096 K:4096\n",
            "Regular FP32 gemm: 0.038554\n",
            "Elapsed time: 53.104992 ms\n",
            "Custom FP32 gemm: 0.038554\n",
            "Elapsed time: 114.261024 ms\n"
          ]
        },
        {
          "output_type": "execute_result",
          "data": {
            "text/plain": []
          },
          "metadata": {},
          "execution_count": 6
        }
      ]
    },
    {
      "cell_type": "code",
      "source": [
        "%%shell\n",
        "\n",
        "cd /content/green_ai/opt_matmul/GPU/\n",
        "\n",
        "./gemm_tc"
      ],
      "metadata": {
        "colab": {
          "base_uri": "https://localhost:8080/"
        },
        "id": "CtIQjmqdIdJg",
        "outputId": "919af539-13f8-47e6-bbbd-85483adba42d"
      },
      "execution_count": 7,
      "outputs": [
        {
          "output_type": "stream",
          "name": "stdout",
          "text": [
            "M:4096 N:4096 K:4096\n",
            "Regular FP32 gemm: 0.038554\n",
            "Elapsed time: 54.812546 ms\n",
            "TC Mixed FP16: 0.038544\n",
            "Elapsed time: 66.694717 ms\n"
          ]
        },
        {
          "output_type": "execute_result",
          "data": {
            "text/plain": []
          },
          "metadata": {},
          "execution_count": 7
        }
      ]
    }
  ]
}